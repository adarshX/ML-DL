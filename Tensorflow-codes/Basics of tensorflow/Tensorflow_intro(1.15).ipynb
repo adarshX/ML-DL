{
 "cells": [
  {
   "cell_type": "code",
   "execution_count": 1,
   "metadata": {},
   "outputs": [
    {
     "name": "stdout",
     "output_type": "stream",
     "text": [
      "1.15.0\n"
     ]
    }
   ],
   "source": [
    "import numpy as np\n",
    "import tensorflow as tf\n",
    "print(tf.__version__)"
   ]
  },
  {
   "cell_type": "markdown",
   "metadata": {},
   "source": [
    "# Defining variables"
   ]
  },
  {
   "cell_type": "code",
   "execution_count": 2,
   "metadata": {},
   "outputs": [
    {
     "name": "stdout",
     "output_type": "stream",
     "text": [
      "<tf.Variable 'Variable:0' shape=() dtype=float32_ref>\n"
     ]
    }
   ],
   "source": [
    "a = tf.Variable(0.)\n",
    "b = tf.Variable(1.)\n",
    "c = tf.Variable(2.)\n",
    "d = tf.Variable(3.)\n",
    "print(a)"
   ]
  },
  {
   "cell_type": "markdown",
   "metadata": {},
   "source": [
    "# Basic operations"
   ]
  },
  {
   "cell_type": "code",
   "execution_count": 3,
   "metadata": {},
   "outputs": [],
   "source": [
    "ad = tf.add(c,d)\n",
    "mul = tf.multiply(c,d)\n",
    "\n",
    "ad_op = a.assign(a+b)  # a := a + b\n",
    "mul_op = b.assign(b*2) # b := b*2\n",
    "\n",
    "init = tf.global_variables_initializer() #initlasing variables\n"
   ]
  },
  {
   "cell_type": "markdown",
   "metadata": {},
   "source": [
    "# Running a session"
   ]
  },
  {
   "cell_type": "code",
   "execution_count": 4,
   "metadata": {},
   "outputs": [
    {
     "name": "stdout",
     "output_type": "stream",
     "text": [
      "5.0\n",
      "6.0\n",
      "63.0\n",
      "64.0\n",
      "63.0\n",
      "64.0\n"
     ]
    }
   ],
   "source": [
    "with tf.Session() as sess:\n",
    "    init.run()\n",
    "    for i in range(5):\n",
    "        sess.run(ad_op)\n",
    "        sess.run(mul_op)\n",
    "        sess.run(ad)\n",
    "        sess.run(mul)\n",
    "        \n",
    "    print(ad.eval())\n",
    "    print(mul.eval())\n",
    "    print(ad_op.eval())\n",
    "    print(mul_op.eval())\n",
    "    print(a.eval())\n",
    "    print(b.eval())\n",
    "    \n",
    "sess.close()"
   ]
  },
  {
   "cell_type": "code",
   "execution_count": 5,
   "metadata": {},
   "outputs": [
    {
     "name": "stdout",
     "output_type": "stream",
     "text": [
      "11.0\n",
      "11.0\n"
     ]
    },
    {
     "data": {
      "text/plain": [
       "30.0"
      ]
     },
     "execution_count": 5,
     "metadata": {},
     "output_type": "execute_result"
    }
   ],
   "source": [
    "node1 = tf.constant(5.0,dtype = tf.float64)\n",
    "node2 = tf.constant(6.0,dtype = tf.float64)\n",
    "node3 = tf.add(node1 , node2)\n",
    "node4 = tf.multiply(node1, node2)\n",
    "\n",
    "with tf.Session() as sess:\n",
    "    sess.run(node3)\n",
    "    print(node3.eval())\n",
    "    sum_ = node3.eval()\n",
    "print(sum_)\n",
    "tf.Session().run(node4)"
   ]
  },
  {
   "cell_type": "markdown",
   "metadata": {},
   "source": [
    "# Cpu and Gpu (Don't run this cell)"
   ]
  },
  {
   "cell_type": "code",
   "execution_count": null,
   "metadata": {},
   "outputs": [],
   "source": [
    "with tf.device(\"/cpu:0\"):\n",
    "    node1 = tf.constant(5.0,dtype = tf.float32)\n",
    "    node2 = tf.constant(6.0,dtype = tf.float32)\n",
    "    node3 = tf.add(node1 , node2)\n",
    "    su = tf.Session().run(node3)\n",
    "    print(su)\n",
    "with tf.device (\"/gpu:0\"):\n",
    "    node1 = tf.constant(5.0,dtype = tf.float64)\n",
    "    node2 = tf.constant(6.0,dtype = tf.float64)\n",
    "    node4 = tf.multiply(node1, node2)\n",
    "    print(tf.Session().run(node4))\n",
    "\n",
    "    "
   ]
  },
  {
   "cell_type": "markdown",
   "metadata": {},
   "source": [
    "# Variables and initialisation"
   ]
  },
  {
   "cell_type": "code",
   "execution_count": 23,
   "metadata": {},
   "outputs": [
    {
     "name": "stdout",
     "output_type": "stream",
     "text": [
      "[[0. 0. 0. 0.]\n",
      " [0. 0. 0. 0.]\n",
      " [0. 0. 0. 0.]]\n",
      "[[1. 1. 1. 1.]\n",
      " [1. 1. 1. 1.]\n",
      " [1. 1. 1. 1.]]\n"
     ]
    }
   ],
   "source": [
    "node = tf.Variable(tf.zeros([3,4])) #assign it some initial value\n",
    "init = tf.global_variables_initializer()\n",
    "with tf.Session() as sess :\n",
    "    sess.run(init)\n",
    "    print(sess.run(node))\n",
    "    node = node.assign(node + tf.ones([3,4]))\n",
    "    print(sess.run(node))\n",
    "    #print(sess)\n",
    "    "
   ]
  },
  {
   "cell_type": "markdown",
   "metadata": {},
   "source": [
    "# Placeholders"
   ]
  },
  {
   "cell_type": "code",
   "execution_count": 36,
   "metadata": {},
   "outputs": [
    {
     "name": "stdout",
     "output_type": "stream",
     "text": [
      "[[1.097627  1.4303787 1.2055267 1.0897664]\n",
      " [0.8473096 1.2917882 0.8751744 1.783546 ]]\n",
      "[[1.4036295 1.0932201 1.5827281]\n",
      " [1.5234628 1.2614093 1.7179563]]\n"
     ]
    }
   ],
   "source": [
    "np.random.seed(0)\n",
    "\n",
    "a = tf.placeholder(tf.float32 , shape = (2,4))\n",
    "b = tf.placeholder(tf.float32 , shape = (4,3))\n",
    "\n",
    "sum_ = tf.add(a,a)\n",
    "prod = tf.matmul(a,b)\n",
    "\n",
    "with tf.Session() as sess :\n",
    "    a_val = np.random.rand(a.shape[0],a.shape[1])\n",
    "    b_val = np.random.rand(b.shape[0],b.shape[1])\n",
    "    sum_val = sess.run(sum_ , feed_dict = {a : a_val , b : b_val})\n",
    "    prod_val = sess.run(prod , feed_dict = {a : a_val , b : b_val})\n",
    "    print(sum_val)\n",
    "    print(prod_val)"
   ]
  }
 ],
 "metadata": {
  "kernelspec": {
   "display_name": "Python 3",
   "language": "python",
   "name": "python3"
  },
  "language_info": {
   "codemirror_mode": {
    "name": "ipython",
    "version": 3
   },
   "file_extension": ".py",
   "mimetype": "text/x-python",
   "name": "python",
   "nbconvert_exporter": "python",
   "pygments_lexer": "ipython3",
   "version": "3.6.9"
  }
 },
 "nbformat": 4,
 "nbformat_minor": 2
}
